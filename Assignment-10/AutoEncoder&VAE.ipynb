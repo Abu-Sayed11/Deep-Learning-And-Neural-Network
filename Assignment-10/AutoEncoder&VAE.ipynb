{
  "nbformat": 4,
  "nbformat_minor": 0,
  "metadata": {
    "colab": {
      "provenance": [],
      "gpuType": "T4"
    },
    "kernelspec": {
      "name": "python3",
      "display_name": "Python 3"
    },
    "language_info": {
      "name": "python"
    },
    "accelerator": "GPU"
  },
  "cells": [
    {
      "cell_type": "markdown",
      "source": [
        "### **Import & Prepare Dataset**"
      ],
      "metadata": {
        "id": "-t6c9ZmDddHo"
      }
    },
    {
      "cell_type": "code",
      "execution_count": 1,
      "metadata": {
        "id": "beqMESaDYMT6",
        "colab": {
          "base_uri": "https://localhost:8080/"
        },
        "outputId": "5b4826cb-c1a2-4524-f741-e72c00488494"
      },
      "outputs": [
        {
          "output_type": "stream",
          "name": "stderr",
          "text": [
            "100%|██████████| 9.91M/9.91M [00:00<00:00, 16.2MB/s]\n",
            "100%|██████████| 28.9k/28.9k [00:00<00:00, 481kB/s]\n",
            "100%|██████████| 1.65M/1.65M [00:00<00:00, 4.47MB/s]\n",
            "100%|██████████| 4.54k/4.54k [00:00<00:00, 12.1MB/s]\n"
          ]
        }
      ],
      "source": [
        "import torch\n",
        "import torch.nn as nn\n",
        "import torch.optim as optim\n",
        "from torchvision import datasets, transforms\n",
        "from torch.utils.data import DataLoader\n",
        "import numpy as np\n",
        "import matplotlib.pyplot as plt\n",
        "\n",
        "# Normalizes data to the [-1, 1] range to match the Tanh activation.\n",
        "transform_standard = transforms.Compose([\n",
        "    transforms.ToTensor(),\n",
        "    transforms.Normalize((0.5,), (0.5,))\n",
        "])\n",
        "\n",
        "# DataLoaders for standard/denoising models\n",
        "train_loader = DataLoader(\n",
        "    datasets.MNIST(root='./data', train=True, download=True, transform=transform_standard),\n",
        "    batch_size=128, shuffle=True\n",
        ")\n",
        "test_loader = DataLoader(\n",
        "    datasets.MNIST(root='./data', train=False, download=True, transform=transform_standard),\n",
        "    batch_size=128, shuffle=False\n",
        ")\n",
        "\n",
        "# Normalizes data to the [0, 1] range to match the Sigmoid activation and BCE Loss.\n",
        "transform_vae = transforms.Compose([\n",
        "    transforms.ToTensor()\n",
        "])\n",
        "\n",
        "# DataLoaders for the VAE model\n",
        "vae_train_loader = DataLoader(\n",
        "    datasets.MNIST(root='./data', train=True, download=True, transform=transform_vae),\n",
        "    batch_size=128, shuffle=True\n",
        ")\n",
        "vae_test_loader = DataLoader(\n",
        "    datasets.MNIST(root='./data', train=False, download=True, transform=transform_vae),\n",
        "    batch_size=128, shuffle=False\n",
        ")"
      ]
    },
    {
      "cell_type": "markdown",
      "source": [
        "### **Build AutoEncoder**"
      ],
      "metadata": {
        "id": "aBr6711Ud0ne"
      }
    },
    {
      "cell_type": "code",
      "source": [
        "class Autoencoder(nn.Module):\n",
        "    def __init__(self, latent_dim):\n",
        "        super(Autoencoder, self).__init__()\n",
        "        self.encoder = nn.Sequential(\n",
        "            nn.Linear(28 * 28, 128),\n",
        "            nn.ReLU(True),\n",
        "            nn.Linear(128, 64),\n",
        "            nn.ReLU(True),\n",
        "            nn.Linear(64, latent_dim)\n",
        "        )\n",
        "        self.decoder = nn.Sequential(\n",
        "            nn.Linear(latent_dim, 64),\n",
        "            nn.ReLU(True),\n",
        "            nn.Linear(64, 128),\n",
        "            nn.ReLU(True),\n",
        "            nn.Linear(128, 28 * 28),\n",
        "            nn.Tanh() # Outputs in [-1, 1]\n",
        "        )\n",
        "\n",
        "    def forward(self, x):\n",
        "        x = x.view(x.size(0), -1)\n",
        "        encoded = self.encoder(x)\n",
        "        decoded = self.decoder(encoded)\n",
        "        decoded = decoded.view(x.size(0), 1, 28, 28)\n",
        "        return decoded"
      ],
      "metadata": {
        "id": "inWK0xX_Y7ea"
      },
      "execution_count": 2,
      "outputs": []
    },
    {
      "cell_type": "markdown",
      "source": [
        "### **Training AutoEncoder**"
      ],
      "metadata": {
        "id": "wqAIeN6IeIUZ"
      }
    },
    {
      "cell_type": "code",
      "source": [
        "latent_dim = 20\n",
        "autoencoder = Autoencoder(latent_dim)\n",
        "criterion = nn.MSELoss()\n",
        "optimizer = optim.Adam(autoencoder.parameters(), lr=0.001)\n",
        "\n",
        "num_epochs = 10 # Reduced for quicker demo\n",
        "for epoch in range(num_epochs):\n",
        "    for data in train_loader:\n",
        "        img, _ = data\n",
        "        recon = autoencoder(img)\n",
        "        loss = criterion(recon, img)\n",
        "\n",
        "        optimizer.zero_grad()\n",
        "        loss.backward()\n",
        "        optimizer.step()\n",
        "    print(f'Normal AE -> Epoch:{epoch+1}, Loss:{loss.item():.4f}')"
      ],
      "metadata": {
        "colab": {
          "base_uri": "https://localhost:8080/"
        },
        "id": "uJGiVuNMZi-S",
        "outputId": "a50fbdbf-95e2-4315-9d40-bfa857e666d9"
      },
      "execution_count": 3,
      "outputs": [
        {
          "output_type": "stream",
          "name": "stdout",
          "text": [
            "Normal AE -> Epoch:1, Loss:0.1158\n",
            "Normal AE -> Epoch:2, Loss:0.0895\n",
            "Normal AE -> Epoch:3, Loss:0.0825\n",
            "Normal AE -> Epoch:4, Loss:0.0687\n",
            "Normal AE -> Epoch:5, Loss:0.0654\n",
            "Normal AE -> Epoch:6, Loss:0.0591\n",
            "Normal AE -> Epoch:7, Loss:0.0577\n",
            "Normal AE -> Epoch:8, Loss:0.0497\n",
            "Normal AE -> Epoch:9, Loss:0.0541\n",
            "Normal AE -> Epoch:10, Loss:0.0482\n"
          ]
        }
      ]
    },
    {
      "cell_type": "markdown",
      "source": [
        "### **Image Generation by AutoEncoder**"
      ],
      "metadata": {
        "id": "GQJJW2m_eSD8"
      }
    },
    {
      "cell_type": "code",
      "source": [
        "num_images = 5\n",
        "mean = 5\n",
        "variance = 1\n",
        "noise_latent = torch.randn(num_images, latent_dim) * np.sqrt(variance) + mean\n",
        "\n",
        "with torch.no_grad():\n",
        "    generated_images = autoencoder.decoder(noise_latent).view(-1, 1, 28, 28)\n",
        "\n",
        "fig, axes = plt.subplots(1, num_images, figsize=(10, 2))\n",
        "for i, ax in enumerate(axes):\n",
        "    ax.imshow(generated_images[i].squeeze().numpy(), cmap='gray')\n",
        "    ax.axis('off')\n",
        "plt.suptitle('Generated from Normal Autoencoder')\n",
        "plt.show()"
      ],
      "metadata": {
        "colab": {
          "base_uri": "https://localhost:8080/",
          "height": 200
        },
        "id": "F3Lk0Ss3Zy-w",
        "outputId": "8630b21a-b2bb-4e25-b07a-7d895e787ba0"
      },
      "execution_count": 19,
      "outputs": [
        {
          "output_type": "display_data",
          "data": {
            "text/plain": [
              "<Figure size 1000x200 with 5 Axes>"
            ],
            "image/png": "[encoded data removed]"
          },
          "metadata": {}
        }
      ]
    },
    {
      "cell_type": "markdown",
      "source": [
        "### **Training Denoising AutoEncoder**"
      ],
      "metadata": {
        "id": "Vs2OROl1edr9"
      }
    },
    {
      "cell_type": "code",
      "source": [
        "denoising_autoencoder = Autoencoder(latent_dim)\n",
        "criterion = nn.MSELoss()\n",
        "optimizer = optim.Adam(denoising_autoencoder.parameters(), lr=0.001)\n",
        "\n",
        "num_epochs = 10 # Reduced for quicker demo\n",
        "for epoch in range(num_epochs):\n",
        "    for data in train_loader:\n",
        "        img, _ = data\n",
        "        noise_amount = 0.5\n",
        "        noisy_img = img + noise_amount * torch.randn_like(img)\n",
        "        noisy_img = torch.clamp(noisy_img, -1., 1.)\n",
        "\n",
        "        recon = denoising_autoencoder(noisy_img)\n",
        "        loss = criterion(recon, img) # Loss is against the ORIGINAL image\n",
        "\n",
        "        optimizer.zero_grad()\n",
        "        loss.backward()\n",
        "        optimizer.step()\n",
        "    print(f'Denoising AE -> Epoch:{epoch+1}, Loss:{loss.item():.4f}')"
      ],
      "metadata": {
        "colab": {
          "base_uri": "https://localhost:8080/"
        },
        "id": "TfVUKpqVcvy_",
        "outputId": "453dbe8b-82b4-4b7c-c28a-2dd65e19ac0c"
      },
      "execution_count": 5,
      "outputs": [
        {
          "output_type": "stream",
          "name": "stdout",
          "text": [
            "Denoising AE -> Epoch:1, Loss:0.1187\n",
            "Denoising AE -> Epoch:2, Loss:0.0925\n",
            "Denoising AE -> Epoch:3, Loss:0.0758\n",
            "Denoising AE -> Epoch:4, Loss:0.0768\n",
            "Denoising AE -> Epoch:5, Loss:0.0665\n",
            "Denoising AE -> Epoch:6, Loss:0.0655\n",
            "Denoising AE -> Epoch:7, Loss:0.0653\n",
            "Denoising AE -> Epoch:8, Loss:0.0652\n",
            "Denoising AE -> Epoch:9, Loss:0.0666\n",
            "Denoising AE -> Epoch:10, Loss:0.0562\n"
          ]
        }
      ]
    },
    {
      "cell_type": "markdown",
      "source": [
        "### **Image Generation by Denoising AutoEncoder**"
      ],
      "metadata": {
        "id": "Eujl_78yeqsU"
      }
    },
    {
      "cell_type": "code",
      "source": [
        "with torch.no_grad():\n",
        "    generated_images_denoising = denoising_autoencoder.decoder(noise_latent).view(-1, 1, 28, 28)\n",
        "\n",
        "fig, axes = plt.subplots(1, num_images, figsize=(10, 2))\n",
        "for i, ax in enumerate(axes):\n",
        "    ax.imshow(generated_images_denoising[i].squeeze().numpy(), cmap='gray')\n",
        "    ax.axis('off')\n",
        "plt.suptitle('Generated from Denoising Autoencoder')\n",
        "plt.show()"
      ],
      "metadata": {
        "colab": {
          "base_uri": "https://localhost:8080/",
          "height": 200
        },
        "id": "WAJ60ck5dXd5",
        "outputId": "e027da5b-ff9b-4b0f-996e-2cbaf4078801"
      },
      "execution_count": 20,
      "outputs": [
        {
          "output_type": "display_data",
          "data": {
            "text/plain": [
              "<Figure size 1000x200 with 5 Axes>"
            ],
            "image/png": "[encoded data removed]"
          },
          "metadata": {}
        }
      ]
    },
    {
      "cell_type": "markdown",
      "source": [
        "### **Build The Variational Autoencoder (VAE)**"
      ],
      "metadata": {
        "id": "b7DjQ3RhfbJ2"
      }
    },
    {
      "cell_type": "code",
      "source": [
        "class VAE(nn.Module):\n",
        "    def __init__(self, latent_dim):\n",
        "        super(VAE, self).__init__()\n",
        "        self.encoder_fc1 = nn.Linear(28 * 28, 400)\n",
        "        self.encoder_fc2_mean = nn.Linear(400, latent_dim)\n",
        "        self.encoder_fc2_logvar = nn.Linear(400, latent_dim)\n",
        "        self.decoder_fc1 = nn.Linear(latent_dim, 400)\n",
        "        self.decoder_fc2 = nn.Linear(400, 28 * 28)\n",
        "\n",
        "    def encode(self, x):\n",
        "        h1 = torch.relu(self.encoder_fc1(x))\n",
        "        return self.encoder_fc2_mean(h1), self.encoder_fc2_logvar(h1)\n",
        "\n",
        "    def reparameterize(self, mu, logvar):\n",
        "        std = torch.exp(0.5 * logvar)\n",
        "        eps = torch.randn_like(std)\n",
        "        return mu + eps * std\n",
        "\n",
        "    def decode(self, z):\n",
        "        h3 = torch.relu(self.decoder_fc1(z))\n",
        "        return torch.sigmoid(self.decoder_fc2(h3)) # Outputs in [0, 1]\n",
        "\n",
        "    def forward(self, x):\n",
        "        mu, logvar = self.encode(x.view(-1, 784))\n",
        "        z = self.reparameterize(mu, logvar)\n",
        "        return self.decode(z), mu, logvar"
      ],
      "metadata": {
        "id": "NPG6d6GafPqZ"
      },
      "execution_count": 7,
      "outputs": []
    },
    {
      "cell_type": "markdown",
      "source": [
        "### **Training and Evaluation of VAE**"
      ],
      "metadata": {
        "id": "I9HKu6crflxm"
      }
    },
    {
      "cell_type": "code",
      "source": [
        "vae = VAE(latent_dim)\n",
        "optimizer = optim.Adam(vae.parameters(), lr=1e-3)\n",
        "\n",
        "def loss_function(recon_x, x, mu, logvar):\n",
        "    BCE = nn.functional.binary_cross_entropy(recon_x, x.view(-1, 784), reduction='sum')\n",
        "    KLD = -0.5 * torch.sum(1 + logvar - mu.pow(2) - logvar.exp())\n",
        "    return BCE + KLD\n",
        "\n",
        "num_epochs = 10\n",
        "vae.train()\n",
        "for epoch in range(num_epochs):\n",
        "    train_loss = 0\n",
        "    for batch_idx, (data, _) in enumerate(vae_train_loader):\n",
        "        optimizer.zero_grad()\n",
        "        recon_batch, mu, logvar = vae(data)\n",
        "        loss = loss_function(recon_batch, data, mu, logvar)\n",
        "        loss.backward()\n",
        "        train_loss += loss.item()\n",
        "        optimizer.step()\n",
        "    print(f'VAE -> Epoch: {epoch+1} Avg loss: {train_loss / len(vae_train_loader.dataset):.4f}')\n",
        "\n",
        "vae.eval()\n",
        "test_loss = 0\n",
        "with torch.no_grad():\n",
        "    for i, (data, _) in enumerate(vae_test_loader):\n",
        "        recon_batch, mu, logvar = vae(data)\n",
        "        test_loss += loss_function(recon_batch, data, mu, logvar).item()\n",
        "test_loss /= len(vae_test_loader.dataset)\n",
        "print(f'====> VAE Test set loss: {test_loss:.4f}')"
      ],
      "metadata": {
        "colab": {
          "base_uri": "https://localhost:8080/"
        },
        "id": "G-bxRaXTh2Zg",
        "outputId": "f8fea017-4973-460a-914c-4f51f6af2d35"
      },
      "execution_count": 8,
      "outputs": [
        {
          "output_type": "stream",
          "name": "stdout",
          "text": [
            "VAE -> Epoch: 1 Avg loss: 163.7497\n",
            "VAE -> Epoch: 2 Avg loss: 121.0711\n",
            "VAE -> Epoch: 3 Avg loss: 114.3660\n",
            "VAE -> Epoch: 4 Avg loss: 111.5360\n",
            "VAE -> Epoch: 5 Avg loss: 109.8553\n",
            "VAE -> Epoch: 6 Avg loss: 108.7784\n",
            "VAE -> Epoch: 7 Avg loss: 107.9134\n",
            "VAE -> Epoch: 8 Avg loss: 107.2838\n",
            "VAE -> Epoch: 9 Avg loss: 106.8133\n",
            "VAE -> Epoch: 10 Avg loss: 106.3750\n",
            "====> VAE Test set loss: 105.6224\n"
          ]
        }
      ]
    },
    {
      "cell_type": "markdown",
      "source": [
        "### **Image Generation By VAE**"
      ],
      "metadata": {
        "id": "O7m1Ymcnf6ZN"
      }
    },
    {
      "cell_type": "code",
      "source": [
        "# Note: We are using the same noise_latent variable defined earlier (mean=5, variance=1)\n",
        "with torch.no_grad():\n",
        "    generated_images_vae = vae.decode(noise_latent).view(-1, 1, 28, 28)\n",
        "\n",
        "fig, axes = plt.subplots(1, num_images, figsize=(10, 2))\n",
        "for i, ax in enumerate(axes):\n",
        "    ax.imshow(generated_images_vae[i].squeeze().numpy(), cmap='gray')\n",
        "    ax.axis('off')\n",
        "plt.suptitle('Generated from VAE with mean=5 noise (exploring latent space)')\n",
        "plt.show()"
      ],
      "metadata": {
        "colab": {
          "base_uri": "https://localhost:8080/",
          "height": 200
        },
        "id": "Jd0c_InzgADh",
        "outputId": "8e92ab30-4b5a-4122-e93b-740c864e4493"
      },
      "execution_count": 27,
      "outputs": [
        {
          "output_type": "display_data",
          "data": {
            "text/plain": [
              "<Figure size 1000x200 with 5 Axes>"
            ],
            "image/png": "[encoded data removed]"
          },
          "metadata": {}
        }
      ]
    }
  ]
}